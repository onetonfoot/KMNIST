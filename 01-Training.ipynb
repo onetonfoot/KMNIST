{
 "cells": [
  {
   "cell_type": "code",
   "execution_count": 1,
   "metadata": {},
   "outputs": [],
   "source": [
    "%load_ext autoreload\n",
    "%autoreload 2"
   ]
  },
  {
   "cell_type": "code",
   "execution_count": 22,
   "metadata": {},
   "outputs": [],
   "source": [
    "from PIL import Image\n",
    "import torchvision.transforms as T\n",
    "from torchvision.utils import make_grid\n",
    "from torchvision.datasets import KMNIST\n",
    "from torchvision.models import resnet18\n",
    "from einops import rearrange\n",
    "from einops.layers.torch import Rearrange"
   ]
  },
  {
   "cell_type": "markdown",
   "metadata": {},
   "source": [
    "# Data\n",
    "\n",
    "Need to add classes"
   ]
  },
  {
   "cell_type": "code",
   "execution_count": 23,
   "metadata": {},
   "outputs": [],
   "source": [
    "import numpy as np\n",
    "import loaders \n",
    "from torch.utils.data import DataLoader\n",
    "import torch\n",
    "from generator import Generator, fonts\n",
    "import string\n",
    "from augmentation import aug"
   ]
  },
  {
   "cell_type": "code",
   "execution_count": 24,
   "metadata": {},
   "outputs": [],
   "source": [
    "threshold = 50\n",
    "transforms = T.Compose([\n",
    "#     Rearrange(\"h w -> () h w\"),\n",
    "    #TODO Normalize with dataset mean and std...\n",
    "    T.Resize((64,64)),\n",
    "    T.ToTensor(),\n",
    "#     T.Lambda(lambda x: (x < threshold).float().mean(0, keepdim=True))\n",
    "])"
   ]
  },
  {
   "cell_type": "code",
   "execution_count": 25,
   "metadata": {},
   "outputs": [],
   "source": [
    "chars = string.ascii_letters"
   ]
  },
  {
   "cell_type": "code",
   "execution_count": 26,
   "metadata": {},
   "outputs": [],
   "source": [
    "train_gen = Generator(chars, fonts, aug)\n",
    "test_gen = Generator(chars, fonts)"
   ]
  },
  {
   "cell_type": "code",
   "execution_count": 27,
   "metadata": {},
   "outputs": [],
   "source": [
    "train_ds = loaders.FontDs(train_gen, 60000, transforms)\n",
    "test_ds =  loaders.FontDs(test_gen, 10000, transforms)"
   ]
  },
  {
   "cell_type": "code",
   "execution_count": 28,
   "metadata": {},
   "outputs": [],
   "source": [
    "# train_ds = loaders.KMNIST10(\"data/10\", tfms=transforms)\n",
    "# test_ds = loaders.KMNIST10(\"data/10\", train=False, tfms=transforms)\n",
    "\n",
    "train_dl = DataLoader(train_ds, batch_size=32, num_workers=8)\n",
    "test_dl = DataLoader(test_ds, batch_size=32, num_workers=8)"
   ]
  },
  {
   "cell_type": "code",
   "execution_count": 29,
   "metadata": {},
   "outputs": [],
   "source": [
    "# a = T.ToPILImage()(make_grid((train_ds.data[:40].unsqueeze(1) < threshold) * 255, pad_value=125))\n",
    "# a\n",
    "\n",
    "# imgs = []\n",
    "# for label in train_ds.targets.unique():\n",
    "#     data = train_ds.data[train_ds.targets == label][:40]\n",
    "#     img = make_grid((data.unsqueeze(1) < threshold) * 255, pad_value=125)\n",
    "#     imgs.append(img)\n",
    "\n",
    "# T.ToPILImage()(torch.cat(imgs,1))"
   ]
  },
  {
   "cell_type": "markdown",
   "metadata": {},
   "source": [
    "# Model"
   ]
  },
  {
   "cell_type": "code",
   "execution_count": 30,
   "metadata": {},
   "outputs": [],
   "source": [
    "from models import create_model"
   ]
  },
  {
   "cell_type": "code",
   "execution_count": 31,
   "metadata": {},
   "outputs": [],
   "source": [
    "device = \"cuda\"\n",
    "n_classes = len(train_ds.char2idx)"
   ]
  },
  {
   "cell_type": "code",
   "execution_count": 32,
   "metadata": {},
   "outputs": [],
   "source": [
    "model = create_model(3, n_classes)"
   ]
  },
  {
   "cell_type": "code",
   "execution_count": 33,
   "metadata": {},
   "outputs": [],
   "source": [
    "model.to(device);"
   ]
  },
  {
   "cell_type": "markdown",
   "metadata": {},
   "source": [
    "# Loss and Optim\n",
    "\n"
   ]
  },
  {
   "cell_type": "code",
   "execution_count": 34,
   "metadata": {},
   "outputs": [],
   "source": [
    "import torch.nn.functional as F\n",
    "from torch.optim import SGD"
   ]
  },
  {
   "cell_type": "code",
   "execution_count": 35,
   "metadata": {},
   "outputs": [],
   "source": [
    "lr = 1e-4\n",
    "opt = SGD(model.parameters(), lr=lr)"
   ]
  },
  {
   "cell_type": "code",
   "execution_count": 36,
   "metadata": {},
   "outputs": [],
   "source": [
    "loss_fn = F.cross_entropy"
   ]
  },
  {
   "cell_type": "markdown",
   "metadata": {},
   "source": [
    "# Loop"
   ]
  },
  {
   "cell_type": "code",
   "execution_count": 43,
   "metadata": {},
   "outputs": [],
   "source": [
    "from torch.utils.tensorboard import FileWriter, SummaryWriter \n",
    "from tqdm.auto import tqdm\n",
    "from sklearn.metrics import classification_report, accuracy_score\n",
    "from pathlib import Path"
   ]
  },
  {
   "cell_type": "code",
   "execution_count": 38,
   "metadata": {},
   "outputs": [],
   "source": [
    "summary = SummaryWriter()"
   ]
  },
  {
   "cell_type": "code",
   "execution_count": 39,
   "metadata": {},
   "outputs": [],
   "source": [
    "epoch = 0"
   ]
  },
  {
   "cell_type": "code",
   "execution_count": 40,
   "metadata": {},
   "outputs": [],
   "source": [
    "best_acc = 0"
   ]
  },
  {
   "cell_type": "code",
   "execution_count": 46,
   "metadata": {},
   "outputs": [],
   "source": [
    "checkpoints = Path(\"checkpoints\")"
   ]
  },
  {
   "cell_type": "code",
   "execution_count": null,
   "metadata": {},
   "outputs": [
    {
     "data": {
      "application/vnd.jupyter.widget-view+json": {
       "model_id": "afc566d785884eb58cff36df637eb09d",
       "version_major": 2,
       "version_minor": 0
      },
      "text/plain": [
       "HBox(children=(IntProgress(value=0, max=1875), HTML(value='')))"
      ]
     },
     "metadata": {},
     "output_type": "display_data"
    },
    {
     "name": "stdout",
     "output_type": "stream",
     "text": [
      "\n"
     ]
    },
    {
     "data": {
      "application/vnd.jupyter.widget-view+json": {
       "model_id": "0fce9727710b4b3fae132acf341f2c75",
       "version_major": 2,
       "version_minor": 0
      },
      "text/plain": [
       "HBox(children=(IntProgress(value=0, max=313), HTML(value='')))"
      ]
     },
     "metadata": {},
     "output_type": "display_data"
    },
    {
     "name": "stdout",
     "output_type": "stream",
     "text": [
      "\n"
     ]
    },
    {
     "data": {
      "application/vnd.jupyter.widget-view+json": {
       "model_id": "58145aa23dd3485eae00d192dbde85e5",
       "version_major": 2,
       "version_minor": 0
      },
      "text/plain": [
       "HBox(children=(IntProgress(value=0, max=1875), HTML(value='')))"
      ]
     },
     "metadata": {},
     "output_type": "display_data"
    }
   ],
   "source": [
    "for _ in range(5):\n",
    "    epoch += 1\n",
    "    \n",
    "    #Training\n",
    "    train_loss = 0\n",
    "    preds = []\n",
    "    ans = []\n",
    "    pbar = tqdm(train_dl)\n",
    "\n",
    "    for data in pbar:\n",
    "        opt.zero_grad()\n",
    "        x, y = [i.to(device) for i in data]\n",
    "        y_hat = model(x)\n",
    "        loss = loss_fn(y_hat, y)\n",
    "        loss.backward()\n",
    "        opt.step()\n",
    "        train_loss += loss.item()\n",
    "        preds.extend(y_hat.argmax(1).tolist())\n",
    "        ans.extend(y.tolist())\n",
    "\n",
    "    train_acc = accuracy_score(preds, ans)\n",
    "    train_loss /= len(train_ds)\n",
    "    pbar.set_description(f\"Training {epoch} | Loss: {train_loss:.3f} | Accuracy {train_acc:.3f}\")\n",
    "\n",
    "    # Testing\n",
    "    test_loss = 0\n",
    "    preds = [] \n",
    "    ans = []\n",
    "    pbar = tqdm(test_dl)\n",
    "\n",
    "    with torch.no_grad():\n",
    "        for data in pbar:\n",
    "            x, y = [i.to(device) for i in data]\n",
    "            y_hat = model(x)\n",
    "            test_loss += loss_fn(y_hat, y)\n",
    "            preds.extend(y_hat.argmax(1).tolist())\n",
    "            ans.extend(y.tolist())\n",
    "\n",
    "    test_acc = accuracy_score(preds, ans)\n",
    "    test_loss /= len(test_ds)\n",
    "    pbar.set_description(f\"Testing {epoch} | Loss: {test_loss:.3f} | Accuracy {test_acc:.3f}\")\n",
    "    \n",
    "    \n",
    "    # Tensorboard\n",
    "    summary.add_scalars(\"loss\", {\n",
    "        \"train\" : train_loss,\n",
    "        \"test\" : test_loss,\n",
    "    }, epoch)\n",
    "    \n",
    "    summary.add_scalars(\"accuracy\", {\n",
    "        \"train\" : train_acc,\n",
    "        \"test\" : test_acc,\n",
    "    }, epoch)\n",
    "   \n",
    "\n",
    "    summary.file_writer.flush()\n",
    "    \n",
    "    #Saving the model\n",
    "    \n",
    "    \n",
    "    if test_acc > best_acc:\n",
    "        checkpoints.mkdir(parents=True, exist_ok=True)\n",
    "        torch.save(model.state_dict(), checkpoints / \"best_model.pth\")"
   ]
  },
  {
   "cell_type": "markdown",
   "metadata": {},
   "source": [
    "# Save Model"
   ]
  },
  {
   "cell_type": "code",
   "execution_count": null,
   "metadata": {},
   "outputs": [],
   "source": [
    "torch.save(model.state_dict(), \"checkpoints/model.pth\")"
   ]
  },
  {
   "cell_type": "markdown",
   "metadata": {},
   "source": [
    "# Metrics"
   ]
  },
  {
   "cell_type": "code",
   "execution_count": null,
   "metadata": {},
   "outputs": [],
   "source": [
    "print(classification_report(ans, preds))"
   ]
  }
 ],
 "metadata": {
  "kernelspec": {
   "display_name": "Python 3",
   "language": "python",
   "name": "python3"
  },
  "language_info": {
   "codemirror_mode": {
    "name": "ipython",
    "version": 3
   },
   "file_extension": ".py",
   "mimetype": "text/x-python",
   "name": "python",
   "nbconvert_exporter": "python",
   "pygments_lexer": "ipython3",
   "version": "3.7.1"
  }
 },
 "nbformat": 4,
 "nbformat_minor": 4
}
