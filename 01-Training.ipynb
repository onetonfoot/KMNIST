{
 "cells": [
  {
   "cell_type": "code",
   "execution_count": 1,
   "metadata": {},
   "outputs": [],
   "source": [
    "%load_ext autoreload\n",
    "%autoreload 2"
   ]
  },
  {
   "cell_type": "code",
   "execution_count": 2,
   "metadata": {},
   "outputs": [],
   "source": [
    "from PIL import Image\n",
    "import torchvision.transforms as T\n",
    "from torchvision.utils import make_grid\n",
    "from torchvision.datasets import KMNIST\n",
    "from torchvision.models import resnet18\n",
    "from einops import rearrange\n",
    "from einops.layers.torch import Rearrange"
   ]
  },
  {
   "cell_type": "markdown",
   "metadata": {},
   "source": [
    "# Data\n",
    "\n",
    "Need to add classes"
   ]
  },
  {
   "cell_type": "code",
   "execution_count": 3,
   "metadata": {},
   "outputs": [],
   "source": [
    "import numpy as np\n",
    "import loaders \n",
    "from torch.utils.data import DataLoader\n",
    "import torch\n",
    "from generator import Generator, fonts\n",
    "import string\n",
    "from augmentation import aug"
   ]
  },
  {
   "cell_type": "code",
   "execution_count": 4,
   "metadata": {},
   "outputs": [],
   "source": [
    "threshold = 50\n",
    "transforms = T.Compose([\n",
    "#     Rearrange(\"h w -> () h w\"),\n",
    "    #TODO Normalize with dataset mean and std...\n",
    "    T.Resize((64,64)),\n",
    "    T.ToTensor(),\n",
    "#     T.Lambda(lambda x: (x < threshold).float().mean(0, keepdim=True))\n",
    "])"
   ]
  },
  {
   "cell_type": "code",
   "execution_count": 5,
   "metadata": {},
   "outputs": [],
   "source": [
    "chars = string.ascii_letters"
   ]
  },
  {
   "cell_type": "code",
   "execution_count": 6,
   "metadata": {},
   "outputs": [],
   "source": [
    "train_gen = Generator(chars, fonts)\n",
    "test_gen = Generator(chars, fonts)"
   ]
  },
  {
   "cell_type": "code",
   "execution_count": 7,
   "metadata": {},
   "outputs": [],
   "source": [
    "train_ds = loaders.FontDs(train_gen, 60000, transforms)\n",
    "test_ds =  loaders.FontDs(test_gen, 10000, transforms)"
   ]
  },
  {
   "cell_type": "code",
   "execution_count": 8,
   "metadata": {},
   "outputs": [],
   "source": [
    "# train_ds = loaders.KMNIST10(\"data/10\", tfms=transforms)\n",
    "# test_ds = loaders.KMNIST10(\"data/10\", train=False, tfms=transforms)\n",
    "\n",
    "train_dl = DataLoader(train_ds, batch_size=32, num_workers=8)\n",
    "test_dl = DataLoader(test_ds, batch_size=32, num_workers=8)"
   ]
  },
  {
   "cell_type": "code",
   "execution_count": 9,
   "metadata": {},
   "outputs": [],
   "source": [
    "# a = T.ToPILImage()(make_grid((train_ds.data[:40].unsqueeze(1) < threshold) * 255, pad_value=125))\n",
    "# a\n",
    "\n",
    "# imgs = []\n",
    "# for label in train_ds.targets.unique():\n",
    "#     data = train_ds.data[train_ds.targets == label][:40]\n",
    "#     img = make_grid((data.unsqueeze(1) < threshold) * 255, pad_value=125)\n",
    "#     imgs.append(img)\n",
    "\n",
    "# T.ToPILImage()(torch.cat(imgs,1))"
   ]
  },
  {
   "cell_type": "markdown",
   "metadata": {},
   "source": [
    "# Model"
   ]
  },
  {
   "cell_type": "code",
   "execution_count": 10,
   "metadata": {},
   "outputs": [],
   "source": [
    "from models import create_model"
   ]
  },
  {
   "cell_type": "code",
   "execution_count": 11,
   "metadata": {},
   "outputs": [],
   "source": [
    "device = \"cuda\"\n",
    "n_classes = len(train_ds.char2idx)"
   ]
  },
  {
   "cell_type": "code",
   "execution_count": 12,
   "metadata": {},
   "outputs": [],
   "source": [
    "model = create_model(3, n_classes)"
   ]
  },
  {
   "cell_type": "code",
   "execution_count": 13,
   "metadata": {},
   "outputs": [],
   "source": [
    "model.to(device);"
   ]
  },
  {
   "cell_type": "markdown",
   "metadata": {},
   "source": [
    "# Loss and Optim\n",
    "\n"
   ]
  },
  {
   "cell_type": "code",
   "execution_count": 14,
   "metadata": {},
   "outputs": [],
   "source": [
    "import torch.nn.functional as F\n",
    "from torch.optim import SGD"
   ]
  },
  {
   "cell_type": "code",
   "execution_count": 15,
   "metadata": {},
   "outputs": [],
   "source": [
    "lr = 1e-4\n",
    "opt = SGD(model.parameters(), lr=lr)"
   ]
  },
  {
   "cell_type": "code",
   "execution_count": 16,
   "metadata": {},
   "outputs": [],
   "source": [
    "loss_fn = F.cross_entropy"
   ]
  },
  {
   "cell_type": "markdown",
   "metadata": {},
   "source": [
    "# Loop"
   ]
  },
  {
   "cell_type": "code",
   "execution_count": 17,
   "metadata": {},
   "outputs": [],
   "source": [
    "from torch.utils.tensorboard import FileWriter, SummaryWriter \n",
    "from tqdm.auto import tqdm\n",
    "from sklearn.metrics import classification_report, accuracy_score"
   ]
  },
  {
   "cell_type": "code",
   "execution_count": 18,
   "metadata": {},
   "outputs": [],
   "source": [
    "summary = SummaryWriter()"
   ]
  },
  {
   "cell_type": "code",
   "execution_count": 19,
   "metadata": {},
   "outputs": [],
   "source": [
    "epoch = 1"
   ]
  },
  {
   "cell_type": "code",
   "execution_count": null,
   "metadata": {},
   "outputs": [
    {
     "data": {
      "application/vnd.jupyter.widget-view+json": {
       "model_id": "5c5a11c151214fabbe16bc464026dc7a",
       "version_major": 2,
       "version_minor": 0
      },
      "text/plain": [
       "HBox(children=(IntProgress(value=0, max=1875), HTML(value='')))"
      ]
     },
     "metadata": {},
     "output_type": "display_data"
    },
    {
     "name": "stdout",
     "output_type": "stream",
     "text": [
      "\n"
     ]
    },
    {
     "data": {
      "application/vnd.jupyter.widget-view+json": {
       "model_id": "9231494c8ef94cc0b5e6aac7ff0645eb",
       "version_major": 2,
       "version_minor": 0
      },
      "text/plain": [
       "HBox(children=(IntProgress(value=0, max=313), HTML(value='')))"
      ]
     },
     "metadata": {},
     "output_type": "display_data"
    },
    {
     "name": "stdout",
     "output_type": "stream",
     "text": [
      "\n"
     ]
    },
    {
     "data": {
      "application/vnd.jupyter.widget-view+json": {
       "model_id": "092fca17351047cda70153717557e234",
       "version_major": 2,
       "version_minor": 0
      },
      "text/plain": [
       "HBox(children=(IntProgress(value=0, max=1875), HTML(value='')))"
      ]
     },
     "metadata": {},
     "output_type": "display_data"
    }
   ],
   "source": [
    "\n",
    "for _ in range(5):\n",
    "    epoch += 1\n",
    "    \n",
    "    #Training\n",
    "    train_loss = 0\n",
    "    preds = []\n",
    "    ans = []\n",
    "    pbar = tqdm(train_dl)\n",
    "\n",
    "    for data in pbar:\n",
    "        opt.zero_grad()\n",
    "        x, y = [i.to(device) for i in data]\n",
    "        y_hat = model(x)\n",
    "        loss = loss_fn(y_hat, y)\n",
    "        loss.backward()\n",
    "        opt.step()\n",
    "        train_loss += loss.item()\n",
    "        preds.extend(y_hat.argmax(1).tolist())\n",
    "        ans.extend(y.tolist())\n",
    "\n",
    "    train_acc = accuracy_score(preds, ans)\n",
    "    train_loss /= len(train_ds)\n",
    "    \n",
    "    pbar.set_description(f\"Training {epoch} | Loss: {train_loss:.3f} | Accuracy {train_acc:.3f}\")\n",
    "\n",
    "    # Testing\n",
    "    test_loss = 0\n",
    "    preds = [] \n",
    "    ans = []\n",
    "    pbar = tqdm(test_dl)\n",
    "\n",
    "    with torch.no_grad():\n",
    "        for data in pbar:\n",
    "            x, y = [i.to(device) for i in data]\n",
    "            y_hat = model(x)\n",
    "            test_loss += loss_fn(y_hat, y)\n",
    "            preds.extend(y_hat.argmax(1).tolist())\n",
    "            ans.extend(y.tolist())\n",
    "\n",
    "    test_acc = accuracy_score(preds, ans)\n",
    "    test_loss /= len(test_ds)\n",
    "    pbar.set_description(f\"Testing {epoch} | Loss: {test_loss:.3f} | Accuracy {test_acc:.3f}\")\n",
    "    \n",
    "    \n",
    "    summary.add_scalars(\"loss\", {\n",
    "        \"train\" : train_loss,\n",
    "        \"test\" : test_loss,\n",
    "    }, epoch)\n",
    "    \n",
    "    summary.add_scalars(\"accuracy\", {\n",
    "        \"train\" : train_acc,\n",
    "        \"test\" : test_acc,\n",
    "    }, epoch)\n",
    "\n",
    "    summary.file_writer.flush()"
   ]
  },
  {
   "cell_type": "markdown",
   "metadata": {},
   "source": [
    "# Save Model"
   ]
  },
  {
   "cell_type": "code",
   "execution_count": null,
   "metadata": {},
   "outputs": [],
   "source": [
    "torch.save(model.state_dict(), \"checkpoints/model.pth\")"
   ]
  },
  {
   "cell_type": "markdown",
   "metadata": {},
   "source": [
    "# Metrics"
   ]
  },
  {
   "cell_type": "code",
   "execution_count": 103,
   "metadata": {},
   "outputs": [
    {
     "name": "stdout",
     "output_type": "stream",
     "text": [
      "              precision    recall  f1-score   support\n",
      "\n",
      "           0       0.89      0.92      0.90      1000\n",
      "           1       0.90      0.85      0.87      1000\n",
      "           2       0.82      0.81      0.81      1000\n",
      "           3       0.85      0.94      0.89      1000\n",
      "           4       0.86      0.85      0.86      1000\n",
      "           5       0.89      0.87      0.88      1000\n",
      "           6       0.83      0.90      0.87      1000\n",
      "           7       0.87      0.87      0.87      1000\n",
      "           8       0.89      0.83      0.86      1000\n",
      "           9       0.91      0.87      0.89      1000\n",
      "\n",
      "   micro avg       0.87      0.87      0.87     10000\n",
      "   macro avg       0.87      0.87      0.87     10000\n",
      "weighted avg       0.87      0.87      0.87     10000\n",
      "\n"
     ]
    }
   ],
   "source": [
    "print(classification_report(ans, preds))"
   ]
  }
 ],
 "metadata": {
  "kernelspec": {
   "display_name": "Python 3",
   "language": "python",
   "name": "python3"
  },
  "language_info": {
   "codemirror_mode": {
    "name": "ipython",
    "version": 3
   },
   "file_extension": ".py",
   "mimetype": "text/x-python",
   "name": "python",
   "nbconvert_exporter": "python",
   "pygments_lexer": "ipython3",
   "version": "3.7.3"
  }
 },
 "nbformat": 4,
 "nbformat_minor": 4
}
